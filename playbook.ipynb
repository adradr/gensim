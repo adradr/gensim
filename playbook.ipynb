{
 "cells": [
  {
   "cell_type": "code",
   "execution_count": 1,
   "metadata": {},
   "outputs": [],
   "source": [
    "import pandas as pd\n",
    "import numpy as np\n",
    "import uuid\n",
    "import matplotlib.pyplot as plt\n",
    "import imageio\n",
    "from time import time\n",
    "from PyProbs import Probability as pr\n"
   ]
  },
  {
   "cell_type": "code",
   "execution_count": 5,
   "metadata": {},
   "outputs": [
    {
     "name": "stdout",
     "output_type": "stream",
     "text": [
      "The autoreload extension is already loaded. To reload it, use:\n",
      "  %reload_ext autoreload\n"
     ]
    }
   ],
   "source": [
    "%load_ext autoreload\n",
    "%autoreload 2\n",
    "from gensim import *\n",
    "from gensim.Enviroment import SelectionCriterias\n",
    "import logging"
   ]
  },
  {
   "cell_type": "code",
   "execution_count": 6,
   "metadata": {},
   "outputs": [],
   "source": [
    "# Runtime settings\n",
    "LOGGING_LEVEL=logging.INFO\n",
    "MULTITHREADING_NTHREADS=100\n",
    "ANIMATION_FPS=10\n",
    "\n",
    "# Simulation settings\n",
    "MAP_SIZE=20\n",
    "POPULATION_SIZE=100\n",
    "NUM_STEPS=10\n",
    "NUM_GENERATIONS=100\n",
    "\n",
    "# Genome settings\n",
    "GENE_SIZE=20\n",
    "NUM_INTERNAL_NEURON=3\n",
    "MUTATION_RATE=0.1\n",
    "\n",
    "# Selection criteria\n",
    "SELECTION_AREA_SIZE=0.2\n",
    "SELECTION_CRITERIA_TYPE=SelectionCriterias.BOTH_SIDE\n",
    "\n",
    "env = Enviroment.SimEnv(size=MAP_SIZE,\n",
    "                        population_size=POPULATION_SIZE, \n",
    "                        num_steps=NUM_STEPS, \n",
    "                        num_rounds=NUM_GENERATIONS,\n",
    "                        gene_size=GENE_SIZE, \n",
    "                        num_int_neuron=NUM_INTERNAL_NEURON, \n",
    "                        mutation_probability=MUTATION_RATE,\n",
    "                        criteria_type=SELECTION_CRITERIA_TYPE, \n",
    "                        selection_area_width_pct=SELECTION_AREA_SIZE, \n",
    "                        multithreading=MULTITHREADING_NTHREADS,\n",
    "                        animation_fps=ANIMATION_FPS)"
   ]
  },
  {
   "cell_type": "code",
   "execution_count": null,
   "metadata": {},
   "outputs": [],
   "source": []
  }
 ],
 "metadata": {
  "interpreter": {
   "hash": "c09f714e314ff86f90978c5c19b6316b948a0cf1bbd53cabaf59ec97a0010092"
  },
  "kernelspec": {
   "display_name": "Python 3.9.12 ('gensim')",
   "language": "python",
   "name": "python3"
  },
  "language_info": {
   "codemirror_mode": {
    "name": "ipython",
    "version": 3
   },
   "file_extension": ".py",
   "mimetype": "text/x-python",
   "name": "python",
   "nbconvert_exporter": "python",
   "pygments_lexer": "ipython3",
   "version": "3.9.12"
  },
  "orig_nbformat": 4
 },
 "nbformat": 4,
 "nbformat_minor": 2
}
